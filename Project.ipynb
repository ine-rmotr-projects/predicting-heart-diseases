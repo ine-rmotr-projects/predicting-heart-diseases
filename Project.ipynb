{
 "cells": [
  {
   "cell_type": "markdown",
   "metadata": {},
   "source": [
    "![ine-divider](https://user-images.githubusercontent.com/7065401/92672068-398e8080-f2ee-11ea-82d6-ad53f7feb5c0.png)\n",
    "<hr>\n",
    "\n",
    "### Introduction to Data Science with Python — Starter Pass\n",
    "\n",
    "# Predicting heart diseases\n",
    "\n",
    "In this project, you will be using a dataset from a cardiovascular study on residents of the town of Framingham, Massachusetts. This dataset provides the patients’ information. It includes over 4,000 records and 15 attributes.\n",
    "\n",
    "The goal of this project **predict whether the patient has 10-year risk of future coronary heart disease (CHD)**. To do that you will need to put in practice all the topics you saw on previous lessons.\n",
    "\n",
    "![heart](https://user-images.githubusercontent.com/7065401/103839631-9583ce80-506e-11eb-87fe-3ebf2a7a0be8.png)"
   ]
  },
  {
   "cell_type": "markdown",
   "metadata": {},
   "source": [
    "![orange-divider](https://user-images.githubusercontent.com/7065401/92672455-187a5f80-f2ef-11ea-890c-40be9474f7b7.png)\n",
    "\n",
    "## Knowing our data\n",
    "\n",
    "Before starting it's important to load all the libraries we'll be using and understand the data we'll be working on.\n",
    "\n",
    "---\n",
    "### Attributes\n",
    "\n",
    "#### Demographic\n",
    "\n",
    "- Sex: male or female\n",
    "- Age: Age of the patient\n",
    "- Education: no further information provided\n",
    "\n",
    "#### Behavioral\n",
    "\n",
    "- Current Smoker: whether or not the patient is a current smoker\n",
    "- Cigs Per Day: the number of cigarettes that the person smoked on average in one day\n",
    "\n",
    "#### Information on medical history\n",
    "- BP Meds: whether or not the patient was on blood pressure medication\n",
    "- Prevalent Stroke: whether or not the patient had previously had a stroke\n",
    "- Prevalent Hyp: whether or not the patient was hypertensive\n",
    "- Diabetes: whether or not the patient had diabetes\n",
    "\n",
    "#### Information on current medical condition\n",
    "- Tot Chol: total cholesterol level\n",
    "- Sys BP: systolic blood pressure\n",
    "- Dia BP: diastolic blood pressure\n",
    "- BMI: Body Mass Index\n",
    "- Heart Rate: heart rate - In medical research, variables such as heart rate though in fact discrete, yet are considered continuous because of large number of possible values.\n",
    "- Glucose: glucose level\n",
    "\n",
    "#### Target variable to predict\n",
    "- TenYearCHD: 10 year risk of coronary heart disease (binary: “1:Yes”, “0:No”)\n"
   ]
  },
  {
   "cell_type": "code",
   "execution_count": null,
   "metadata": {},
   "outputs": [],
   "source": [
    "import numpy as np\n",
    "import pandas as pd\n",
    "import matplotlib.pyplot as plt\n",
    "import seaborn as sns"
   ]
  },
  {
   "cell_type": "code",
   "execution_count": null,
   "metadata": {},
   "outputs": [],
   "source": [
    "df = pd.read_csv('data/heart.csv')"
   ]
  },
  {
   "cell_type": "markdown",
   "metadata": {},
   "source": [
    "Take a look at some records of your data, analyze columns and values:"
   ]
  },
  {
   "cell_type": "code",
   "execution_count": null,
   "metadata": {},
   "outputs": [],
   "source": [
    "# your code goes here\n"
   ]
  },
  {
   "cell_type": "markdown",
   "metadata": {},
   "source": [
    "![orange-divider](https://user-images.githubusercontent.com/7065401/92672455-187a5f80-f2ef-11ea-890c-40be9474f7b7.png)\n",
    "\n",
    "## Dealing with missing values\n",
    "\n",
    "Check if there is any missing value on the data.\n",
    "\n",
    "> In that case remove the rows with missing values. An advanced approach could be imputting values or removing insignificant columns with more than 30% of missing values."
   ]
  },
  {
   "cell_type": "code",
   "execution_count": null,
   "metadata": {},
   "outputs": [],
   "source": [
    "# your code goes here\n"
   ]
  },
  {
   "cell_type": "markdown",
   "metadata": {},
   "source": [
    "![orange-divider](https://user-images.githubusercontent.com/7065401/92672455-187a5f80-f2ef-11ea-890c-40be9474f7b7.png)\n",
    "\n",
    "## Correlation analysis\n",
    "\n",
    "Plot a heatmap showing correlation between variables."
   ]
  },
  {
   "cell_type": "code",
   "execution_count": null,
   "metadata": {},
   "outputs": [],
   "source": [
    "# your code goes here\n"
   ]
  },
  {
   "cell_type": "markdown",
   "metadata": {},
   "source": [
    "---\n",
    "### Have you detected any high correlated variables?\n",
    "\n",
    "If yes remove one of them to avoid collinearity."
   ]
  },
  {
   "cell_type": "code",
   "execution_count": null,
   "metadata": {},
   "outputs": [],
   "source": [
    "# your code goes here\n"
   ]
  },
  {
   "cell_type": "markdown",
   "metadata": {},
   "source": [
    "![orange-divider](https://user-images.githubusercontent.com/7065401/92672455-187a5f80-f2ef-11ea-890c-40be9474f7b7.png)\n",
    "\n",
    "## Features and Labels\n",
    "\n",
    "Assign to the `X` variable your features, and to the `y` variable your labels."
   ]
  },
  {
   "cell_type": "code",
   "execution_count": null,
   "metadata": {},
   "outputs": [],
   "source": [
    "# your code goes here\n"
   ]
  },
  {
   "cell_type": "markdown",
   "metadata": {},
   "source": [
    "![orange-divider](https://user-images.githubusercontent.com/7065401/92672455-187a5f80-f2ef-11ea-890c-40be9474f7b7.png)\n",
    "\n",
    "## Standardization\n",
    "\n",
    "As the `X` features aren't on the same scale, let's standardize them.\n",
    "\n",
    "To do that use the `StandardScaler` from scikit-learn."
   ]
  },
  {
   "cell_type": "code",
   "execution_count": null,
   "metadata": {},
   "outputs": [],
   "source": [
    "from sklearn.preprocessing import StandardScaler\n",
    "\n",
    "# your code goes here\n"
   ]
  },
  {
   "cell_type": "markdown",
   "metadata": {},
   "source": [
    "![orange-divider](https://user-images.githubusercontent.com/7065401/92672455-187a5f80-f2ef-11ea-890c-40be9474f7b7.png)\n",
    "\n",
    "## Train and test splits\n",
    "\n",
    "Let's split the `X` and `y` data into training and testing sets.\n",
    "\n",
    "Keep 80% of the data in the training set and 20% of the data in the test set.\n",
    "\n",
    "> You can use a `random_state` to reproduce your problem the same every time it is run."
   ]
  },
  {
   "cell_type": "code",
   "execution_count": null,
   "metadata": {},
   "outputs": [],
   "source": [
    "from sklearn.model_selection import train_test_split\n",
    "\n",
    "# your code goes here\n"
   ]
  },
  {
   "cell_type": "markdown",
   "metadata": {},
   "source": [
    "![orange-divider](https://user-images.githubusercontent.com/7065401/92672455-187a5f80-f2ef-11ea-890c-40be9474f7b7.png)\n",
    "\n",
    "## My first model\n",
    "\n",
    "Now you will need to create a model to make predictions. In this case you will need to create a `LogisticRegression` classifier:\n",
    "\n",
    "1. Create the classifier `clf` model.\n",
    "2. Fit/train that model with your `X_train` and `y_train` data.\n",
    "3. Get the predictions of that model over your `X_test` set.\n",
    "4. Get the score of that model using your `X_test` and `y_test` data.\n"
   ]
  },
  {
   "cell_type": "code",
   "execution_count": null,
   "metadata": {},
   "outputs": [],
   "source": [
    "from sklearn.linear_model import LogisticRegression\n",
    "\n",
    "# your code goes here\n"
   ]
  },
  {
   "cell_type": "markdown",
   "metadata": {},
   "source": [
    "![orange-divider](https://user-images.githubusercontent.com/7065401/92672455-187a5f80-f2ef-11ea-890c-40be9474f7b7.png)\n",
    "\n",
    "## Other classifiers\n",
    "\n",
    "scikit-learn offers a lot of methods/algorithms for this type of problems. Are we sure that the `LogisticRegression` classifier we used is the best model?\n",
    "\n",
    "Let's try other methods/algorithms to see if any of them can achieve a better score.\n",
    "\n",
    "> You can try a `RandomForestClassifier`, a `DecisionTreeClassifier`, a `LinearSVC`, or any other classifier from scikit-learn.\n"
   ]
  },
  {
   "cell_type": "code",
   "execution_count": null,
   "metadata": {},
   "outputs": [],
   "source": [
    "# your code goes here\n"
   ]
  },
  {
   "cell_type": "markdown",
   "metadata": {},
   "source": [
    "![orange-divider](https://user-images.githubusercontent.com/7065401/92672455-187a5f80-f2ef-11ea-890c-40be9474f7b7.png)"
   ]
  }
 ],
 "metadata": {
  "kernelspec": {
   "display_name": "Python 3",
   "language": "python",
   "name": "python3"
  },
  "language_info": {
   "codemirror_mode": {
    "name": "ipython",
    "version": 3
   },
   "file_extension": ".py",
   "mimetype": "text/x-python",
   "name": "python",
   "nbconvert_exporter": "python",
   "pygments_lexer": "ipython3",
   "version": "3.8.6"
  }
 },
 "nbformat": 4,
 "nbformat_minor": 4
}
